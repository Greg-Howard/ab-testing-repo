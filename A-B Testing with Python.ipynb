{
 "cells": [
  {
   "cell_type": "markdown",
   "metadata": {},
   "source": [
    "# _A-B Testing with Explanations_\n",
    "---\n",
    "### Greg Howard\n",
    "\n",
    "AB Testing data has been sourced from a kaggle data set [here](https://www.kaggle.com/saraabdelaal/abtestdata/)\n",
    "\n",
    "Goals:\n",
    "\n",
    "1. Explain a-b testing with an example\n",
    "2. Discuss the statistics supporting the a-b test\n",
    "3. Show common errors in running a-b tests\n",
    "---\n",
    "* Formulate a hypothesis for the test.\n",
    "\n",
    "The checkout rate with a new website design:  $p$\n",
    "\n",
    "The checkout rate with the existing website design:  $p_o$\n",
    "\n",
    "The null hypothesis:  $H_o: p = p_o$\n",
    "\n",
    "The alternative hypothesis:  $H_a: p \\ne p_o$\n",
    "\n",
    "Threshold for decision regarding statistical significance, i.e. 95% confidence interval:  $\\alpha = 0.05$"
   ]
  },
  {
   "cell_type": "code",
   "execution_count": 1,
   "metadata": {},
   "outputs": [
    {
     "data": {
      "application/javascript": "\n            setTimeout(function() {\n                var nbb_cell_id = 1;\n                var nbb_unformatted_code = \"# import required modules\\nimport pandas as pd\\nimport numpy as np\\nimport datetime as dt\\nimport matplotlib as mpl\\nimport matplotlib.pyplot as plt\\nfrom statsmodels.stats.power import TTestIndPower\\nfrom statsmodels.stats.proportion import proportions_ztest, proportion_confint\\nimport statsmodels.api as sm\\nimport math\\nimport statistics\\nimport scipy.stats\\n\\n%load_ext nb_black\";\n                var nbb_formatted_code = \"# import required modules\\nimport pandas as pd\\nimport numpy as np\\nimport datetime as dt\\nimport matplotlib as mpl\\nimport matplotlib.pyplot as plt\\nfrom statsmodels.stats.power import TTestIndPower\\nfrom statsmodels.stats.proportion import proportions_ztest, proportion_confint\\nimport statsmodels.api as sm\\nimport math\\nimport statistics\\nimport scipy.stats\\n\\n%load_ext nb_black\";\n                var nbb_cells = Jupyter.notebook.get_cells();\n                for (var i = 0; i < nbb_cells.length; ++i) {\n                    if (nbb_cells[i].input_prompt_number == nbb_cell_id) {\n                        if (nbb_cells[i].get_text() == nbb_unformatted_code) {\n                             nbb_cells[i].set_text(nbb_formatted_code);\n                        }\n                        break;\n                    }\n                }\n            }, 500);\n            ",
      "text/plain": [
       "<IPython.core.display.Javascript object>"
      ]
     },
     "metadata": {},
     "output_type": "display_data"
    }
   ],
   "source": [
    "# import required modules\n",
    "import pandas as pd\n",
    "import numpy as np\n",
    "import datetime as dt\n",
    "import matplotlib as mpl\n",
    "import matplotlib.pyplot as plt\n",
    "from statsmodels.stats.power import TTestIndPower\n",
    "from statsmodels.stats.proportion import proportions_ztest, proportion_confint\n",
    "import statsmodels.api as sm\n",
    "import math\n",
    "import statistics\n",
    "import scipy.stats"
   ]
  },
  {
   "cell_type": "code",
   "execution_count": 181,
   "metadata": {},
   "outputs": [
    {
     "name": "stdout",
     "output_type": "stream",
     "text": [
      "user_id          int64\n",
      "timestamp       object\n",
      "group           object\n",
      "landing_page    object\n",
      "converted        int64\n",
      "dtype: object\n",
      "   user_id                  timestamp      group landing_page  converted\n",
      "0   851104 2017-01-21 22:11:48.556739    control     old_page          0\n",
      "1   804228 2017-01-12 08:01:45.159739    control     old_page          0\n",
      "2   661590 2017-01-11 16:55:06.154213  treatment     new_page          0\n",
      "3   853541 2017-01-08 18:28:03.143765  treatment     new_page          0\n",
      "4   864975 2017-01-21 01:52:26.210827    control     old_page          1\n",
      "5   936923 2017-01-10 15:20:49.083499    control     old_page          0\n",
      "6   679687 2017-01-19 03:26:46.940749  treatment     new_page          1\n",
      "7   719014 2017-01-17 01:48:29.539573    control     old_page          0\n",
      "8   817355 2017-01-04 17:58:08.979471  treatment     new_page          1\n",
      "9   839785 2017-01-15 18:11:06.610965  treatment     new_page          1\n",
      "\n",
      "Data consists of 294478 rows and 5 columns.\n",
      "\n",
      "There are 290584 unique values in the user_id column.\n",
      "\n",
      "There should be only one entry for each user so that they are not sampled twice so 3894 users were removed.\n",
      "\n",
      "The testing occurred over 21 days 23:59:49.081927 days.\n",
      "\n",
      "Total count of converted users is 34245\n",
      "\n",
      "Percent of converted users regardless of landing page is 11.94%\n"
     ]
    },
    {
     "data": {
      "image/png": "[encoded data removed]",
      "text/plain": [
       "<Figure size 720x360 with 1 Axes>"
      ]
     },
     "metadata": {
      "needs_background": "light"
     },
     "output_type": "display_data"
    },
    {
     "data": {
      "application/javascript": "\n            setTimeout(function() {\n                var nbb_cell_id = 181;\n                var nbb_unformatted_code = \"ab_data = pd.read_csv(\\\"AB_Testing_Data/ab_data.csv\\\")\\nprint(ab_data.dtypes)  # check the data types\\nab_data.timestamp = pd.to_datetime(\\n    ab_data.timestamp\\n)  # convert the timestamp to a datetime format\\nprint(ab_data.head(10))  # display the top 10 rows of the data frame\\nprint(\\\"\\\")\\nprint(\\n    \\\"Data consists of {} rows and {} columns.\\\".format(\\n        ab_data.shape[0], ab_data.shape[1]\\n    )\\n)  # count the rows and columns\\nprint(\\\"\\\")\\nprint(\\n    \\\"There are {} unique values in the user_id column.\\\".format(\\n        len(ab_data[\\\"user_id\\\"].unique())\\n    )\\n)  # count the unique users\\nprint(\\\"\\\")\\n# # the value count of how many times a user has appeared in the \\\"user_id\\\" column\\nuser_counts = pd.DataFrame(ab_data[\\\"user_id\\\"].value_counts())\\nuser_counts_over_1 = user_counts[\\n    user_counts[\\\"user_id\\\"] > 1\\n]  # any user that appears twice or more\\nuser_counts_over_1_list = list(user_counts_over_1.index)\\nab_data = ab_data[~ab_data[\\\"user_id\\\"].isin(user_counts_over_1_list)]\\nprint(\\n    \\\"There should be only one entry for each user so that they are not sampled twice so {} users were removed.\\\".format(\\n        len(user_counts_over_1_list)\\n    )\\n)\\nprint(\\\"\\\")\\nprint(\\n    \\\"The testing occurred over {} days.\\\".format(\\n        max(ab_data[\\\"timestamp\\\"]) - min(ab_data[\\\"timestamp\\\"])\\n    )\\n)  # length of the testing\\nprint(\\\"\\\")\\nprint(\\n    \\\"Total count of converted users is {}\\\".format(\\n        str(ab_data.converted.value_counts()[1])\\n    )\\n)\\nprint(\\\"\\\")\\nprint(\\n    \\\"Percent of converted users regardless of landing page is {}%\\\".format(\\n        round((ab_data.converted.value_counts()[1] / ab_data.shape[0] * 100), 2)\\n    )\\n)\\ncategories = [\\\"Not Converted\\\", \\\"Converted\\\"]\\ncounts = ab_data[\\\"converted\\\"].value_counts().values\\n\\nplt.figure(figsize=(10, 5))\\nplt.bar(categories, counts, width=0.5)\\nplt.xlabel(\\\"Conversion Status\\\")\\nplt.ylabel(\\\"Count of Outcomes\\\")\\nplt.title(\\\"User Counts by Conversion Status\\\")\\nplt.show()\";\n                var nbb_formatted_code = \"ab_data = pd.read_csv(\\\"AB_Testing_Data/ab_data.csv\\\")\\nprint(ab_data.dtypes)  # check the data types\\nab_data.timestamp = pd.to_datetime(\\n    ab_data.timestamp\\n)  # convert the timestamp to a datetime format\\nprint(ab_data.head(10))  # display the top 10 rows of the data frame\\nprint(\\\"\\\")\\nprint(\\n    \\\"Data consists of {} rows and {} columns.\\\".format(\\n        ab_data.shape[0], ab_data.shape[1]\\n    )\\n)  # count the rows and columns\\nprint(\\\"\\\")\\nprint(\\n    \\\"There are {} unique values in the user_id column.\\\".format(\\n        len(ab_data[\\\"user_id\\\"].unique())\\n    )\\n)  # count the unique users\\nprint(\\\"\\\")\\n# # the value count of how many times a user has appeared in the \\\"user_id\\\" column\\nuser_counts = pd.DataFrame(ab_data[\\\"user_id\\\"].value_counts())\\nuser_counts_over_1 = user_counts[\\n    user_counts[\\\"user_id\\\"] > 1\\n]  # any user that appears twice or more\\nuser_counts_over_1_list = list(user_counts_over_1.index)\\nab_data = ab_data[~ab_data[\\\"user_id\\\"].isin(user_counts_over_1_list)]\\nprint(\\n    \\\"There should be only one entry for each user so that they are not sampled twice so {} users were removed.\\\".format(\\n        len(user_counts_over_1_list)\\n    )\\n)\\nprint(\\\"\\\")\\nprint(\\n    \\\"The testing occurred over {} days.\\\".format(\\n        max(ab_data[\\\"timestamp\\\"]) - min(ab_data[\\\"timestamp\\\"])\\n    )\\n)  # length of the testing\\nprint(\\\"\\\")\\nprint(\\n    \\\"Total count of converted users is {}\\\".format(\\n        str(ab_data.converted.value_counts()[1])\\n    )\\n)\\nprint(\\\"\\\")\\nprint(\\n    \\\"Percent of converted users regardless of landing page is {}%\\\".format(\\n        round((ab_data.converted.value_counts()[1] / ab_data.shape[0] * 100), 2)\\n    )\\n)\\ncategories = [\\\"Not Converted\\\", \\\"Converted\\\"]\\ncounts = ab_data[\\\"converted\\\"].value_counts().values\\n\\nplt.figure(figsize=(10, 5))\\nplt.bar(categories, counts, width=0.5)\\nplt.xlabel(\\\"Conversion Status\\\")\\nplt.ylabel(\\\"Count of Outcomes\\\")\\nplt.title(\\\"User Counts by Conversion Status\\\")\\nplt.show()\";\n                var nbb_cells = Jupyter.notebook.get_cells();\n                for (var i = 0; i < nbb_cells.length; ++i) {\n                    if (nbb_cells[i].input_prompt_number == nbb_cell_id) {\n                        if (nbb_cells[i].get_text() == nbb_unformatted_code) {\n                             nbb_cells[i].set_text(nbb_formatted_code);\n                        }\n                        break;\n                    }\n                }\n            }, 500);\n            ",
      "text/plain": [
       "<IPython.core.display.Javascript object>"
      ]
     },
     "metadata": {},
     "output_type": "display_data"
    }
   ],
   "source": [
    "ab_data = pd.read_csv(\"AB_Testing_Data/ab_data.csv\")\n",
    "print(ab_data.dtypes)  # check the data types\n",
    "ab_data.timestamp = pd.to_datetime(\n",
    "    ab_data.timestamp\n",
    ")  # convert the timestamp to a datetime format\n",
    "print(ab_data.head(10))  # display the top 10 rows of the data frame\n",
    "print(\"\")\n",
    "print(\n",
    "    \"Data consists of {} rows and {} columns.\".format(\n",
    "        ab_data.shape[0], ab_data.shape[1]\n",
    "    )\n",
    ")  # count the rows and columns\n",
    "print(\"\")\n",
    "print(\n",
    "    \"There are {} unique values in the user_id column.\".format(\n",
    "        len(ab_data[\"user_id\"].unique())\n",
    "    )\n",
    ")  # count the unique users\n",
    "print(\"\")\n",
    "# # the value count of how many times a user has appeared in the \"user_id\" column\n",
    "user_counts = pd.DataFrame(ab_data[\"user_id\"].value_counts())\n",
    "user_counts_over_1 = user_counts[\n",
    "    user_counts[\"user_id\"] > 1\n",
    "]  # any user that appears twice or more\n",
    "user_counts_over_1_list = list(user_counts_over_1.index)\n",
    "ab_data = ab_data[~ab_data[\"user_id\"].isin(user_counts_over_1_list)]\n",
    "print(\n",
    "    \"There should be only one entry for each user so that they are not sampled twice so {} users were removed.\".format(\n",
    "        len(user_counts_over_1_list)\n",
    "    )\n",
    ")\n",
    "print(\"\")\n",
    "print(\n",
    "    \"The testing occurred over {} days.\".format(\n",
    "        max(ab_data[\"timestamp\"]) - min(ab_data[\"timestamp\"])\n",
    "    )\n",
    ")  # length of the testing\n",
    "print(\"\")\n",
    "print(\n",
    "    \"Total count of converted users is {}\".format(\n",
    "        str(ab_data.converted.value_counts()[1])\n",
    "    )\n",
    ")\n",
    "print(\"\")\n",
    "print(\n",
    "    \"Percent of converted users regardless of landing page is {}%\".format(\n",
    "        round((ab_data.converted.value_counts()[1] / ab_data.shape[0] * 100), 2)\n",
    "    )\n",
    ")\n",
    "categories = [\"Not Converted\", \"Converted\"]\n",
    "counts = ab_data[\"converted\"].value_counts().values\n",
    "\n",
    "plt.figure(figsize=(10, 5))\n",
    "plt.bar(categories, counts, width=0.5)\n",
    "plt.xlabel(\"Conversion Status\")\n",
    "plt.ylabel(\"Count of Outcomes\")\n",
    "plt.title(\"User Counts by Conversion Status\")\n",
    "plt.show()"
   ]
  },
  {
   "cell_type": "markdown",
   "metadata": {},
   "source": [
    "Are some users in the treatment group seeing the old page when they should be seeing the new page, or vice versa with the control group users seeing the new page?"
   ]
  },
  {
   "cell_type": "code",
   "execution_count": 182,
   "metadata": {},
   "outputs": [
    {
     "name": "stdout",
     "output_type": "stream",
     "text": [
      "There were 0 users shown the wrong landing page that were removed from the data set.\n"
     ]
    },
    {
     "data": {
      "application/javascript": "\n            setTimeout(function() {\n                var nbb_cell_id = 182;\n                var nbb_unformatted_code = \"ctrl_new_page = ab_data[\\n    (ab_data[\\\"group\\\"] == \\\"control\\\") & (ab_data[\\\"landing_page\\\"] == \\\"new_page\\\")\\n]  # users in the control group who were accidentally shown the new page\\ntrmnt_old_page = ab_data[\\n    (ab_data[\\\"group\\\"] == \\\"treatment\\\") & (ab_data[\\\"landing_page\\\"] == \\\"old_page\\\")\\n]  # users in the treatment group who were accidentally shown the old page\\n# list of all index positions of users shown the wrong page\\nindex_values_to_drop = list(ctrl_new_page.index) + list(trmnt_old_page.index)\\nprint(\\n    \\\"There were {} users shown the wrong landing page that were removed from the data set.\\\".format(\\n        len(index_values_to_drop)\\n    )\\n)\\nab_data.drop(index_values_to_drop, inplace=True)  # drop the users shown the wrong page\\nab_data = ab_data.reset_index().drop(\\\"index\\\", 1)  # reset the index of the data frame\";\n                var nbb_formatted_code = \"ctrl_new_page = ab_data[\\n    (ab_data[\\\"group\\\"] == \\\"control\\\") & (ab_data[\\\"landing_page\\\"] == \\\"new_page\\\")\\n]  # users in the control group who were accidentally shown the new page\\ntrmnt_old_page = ab_data[\\n    (ab_data[\\\"group\\\"] == \\\"treatment\\\") & (ab_data[\\\"landing_page\\\"] == \\\"old_page\\\")\\n]  # users in the treatment group who were accidentally shown the old page\\n# list of all index positions of users shown the wrong page\\nindex_values_to_drop = list(ctrl_new_page.index) + list(trmnt_old_page.index)\\nprint(\\n    \\\"There were {} users shown the wrong landing page that were removed from the data set.\\\".format(\\n        len(index_values_to_drop)\\n    )\\n)\\nab_data.drop(index_values_to_drop, inplace=True)  # drop the users shown the wrong page\\nab_data = ab_data.reset_index().drop(\\\"index\\\", 1)  # reset the index of the data frame\";\n                var nbb_cells = Jupyter.notebook.get_cells();\n                for (var i = 0; i < nbb_cells.length; ++i) {\n                    if (nbb_cells[i].input_prompt_number == nbb_cell_id) {\n                        if (nbb_cells[i].get_text() == nbb_unformatted_code) {\n                             nbb_cells[i].set_text(nbb_formatted_code);\n                        }\n                        break;\n                    }\n                }\n            }, 500);\n            ",
      "text/plain": [
       "<IPython.core.display.Javascript object>"
      ]
     },
     "metadata": {},
     "output_type": "display_data"
    }
   ],
   "source": [
    "ctrl_new_page = ab_data[\n",
    "    (ab_data[\"group\"] == \"control\") & (ab_data[\"landing_page\"] == \"new_page\")\n",
    "]  # users in the control group who were accidentally shown the new page\n",
    "trmnt_old_page = ab_data[\n",
    "    (ab_data[\"group\"] == \"treatment\") & (ab_data[\"landing_page\"] == \"old_page\")\n",
    "]  # users in the treatment group who were accidentally shown the old page\n",
    "# list of all index positions of users shown the wrong page\n",
    "index_values_to_drop = list(ctrl_new_page.index) + list(trmnt_old_page.index)\n",
    "print(\n",
    "    \"There were {} users shown the wrong landing page that were removed from the data set.\".format(\n",
    "        len(index_values_to_drop)\n",
    "    )\n",
    ")\n",
    "ab_data.drop(index_values_to_drop, inplace=True)  # drop the users shown the wrong page\n",
    "ab_data = ab_data.reset_index().drop(\"index\", 1)  # reset the index of the data frame"
   ]
  },
  {
   "cell_type": "markdown",
   "metadata": {},
   "source": [
    "### Data Summary\n",
    "\n",
    "A control group is needed to assess if other variables have impacted our known base conversion rate during the test.\n",
    "Sample size affects the precision of our estimate of the actual change in behavior due to the landing page adjustment.  Higher sample size generally means a higher upfront cost though so precision and cost must be balanced.\n",
    "\n",
    "---\n",
    "\n",
    "Power analysis is used to gauge how large of a testing group is needed.  The power of a test is represented by: $1 - \\beta$\n",
    "\n",
    "Here $\\beta$ is the probability of a type II error (false negative).  \n",
    "\n",
    "Desired effect size (change in conversion) as an example would be a 1.8% increase from 11.94% to 13.74%."
   ]
  },
  {
   "cell_type": "code",
   "execution_count": 183,
   "metadata": {},
   "outputs": [
    {
     "name": "stdout",
     "output_type": "stream",
     "text": [
      "The results of the power analysis indicate that a sample size of 5417 is required.\n"
     ]
    },
    {
     "data": {
      "application/javascript": "\n            setTimeout(function() {\n                var nbb_cell_id = 183;\n                var nbb_unformatted_code = \"alpha = 0.05\\nbeta = 0.2\\ntest_power = 1 - beta\\neffect = sm.stats.proportion_effectsize(0.1374, 0.1194)\\n# perform power analysis\\nresult = TTestIndPower().solve_power(\\n    effect, power=test_power, nobs1=None, ratio=1.0, alpha=alpha\\n)\\nprint(\\n    \\\"The results of the power analysis indicate that a sample size of {} is required.\\\".format(\\n        math.ceil(result)\\n    )\\n)\";\n                var nbb_formatted_code = \"alpha = 0.05\\nbeta = 0.2\\ntest_power = 1 - beta\\neffect = sm.stats.proportion_effectsize(0.1374, 0.1194)\\n# perform power analysis\\nresult = TTestIndPower().solve_power(\\n    effect, power=test_power, nobs1=None, ratio=1.0, alpha=alpha\\n)\\nprint(\\n    \\\"The results of the power analysis indicate that a sample size of {} is required.\\\".format(\\n        math.ceil(result)\\n    )\\n)\";\n                var nbb_cells = Jupyter.notebook.get_cells();\n                for (var i = 0; i < nbb_cells.length; ++i) {\n                    if (nbb_cells[i].input_prompt_number == nbb_cell_id) {\n                        if (nbb_cells[i].get_text() == nbb_unformatted_code) {\n                             nbb_cells[i].set_text(nbb_formatted_code);\n                        }\n                        break;\n                    }\n                }\n            }, 500);\n            ",
      "text/plain": [
       "<IPython.core.display.Javascript object>"
      ]
     },
     "metadata": {},
     "output_type": "display_data"
    }
   ],
   "source": [
    "alpha = 0.05\n",
    "beta = 0.2\n",
    "test_power = 1 - beta\n",
    "effect = sm.stats.proportion_effectsize(0.1374, 0.1194)\n",
    "# perform power analysis\n",
    "result = TTestIndPower().solve_power(\n",
    "    effect, power=test_power, nobs1=None, ratio=1.0, alpha=alpha\n",
    ")\n",
    "print(\n",
    "    \"The results of the power analysis indicate that a sample size of {} is required.\".format(\n",
    "        math.ceil(result)\n",
    "    )\n",
    ")"
   ]
  },
  {
   "cell_type": "code",
   "execution_count": 184,
   "metadata": {},
   "outputs": [
    {
     "name": "stdout",
     "output_type": "stream",
     "text": [
      "There are 5417 users in the control group and 5417 users in the treatment group in the testing data.\n"
     ]
    },
    {
     "data": {
      "application/javascript": "\n            setTimeout(function() {\n                var nbb_cell_id = 184;\n                var nbb_unformatted_code = \"# convert the control and treatment user groups to numpy arrays\\nusers_control = ab_data[ab_data[\\\"group\\\"] == \\\"control\\\"][\\\"user_id\\\"].to_numpy()\\nusers_treatment = ab_data[ab_data[\\\"group\\\"] == \\\"treatment\\\"][\\\"user_id\\\"].to_numpy()\\n# sample for the ab_testing using the numpy random choice function with no replacement\\ncontrol_sampled = np.random.choice(users_control, math.ceil(result), replace=False)\\ntreatment_sampled = np.random.choice(users_treatment, math.ceil(result), replace=False)\\n# create data frames of the sampled user_id values then create a new ab_testing_selected data frame\\ncontrol_sample_data = ab_data[ab_data[\\\"user_id\\\"].isin(control_sampled)]\\ntreatment_sample_data = ab_data[ab_data[\\\"user_id\\\"].isin(treatment_sampled)]\\nab_testing_selected = pd.concat([control_sample_data, treatment_sample_data])\\nprint(\\n    \\\"There are {} users in the control group and {} users in the treatment group in the testing data.\\\".format(\\n        ab_testing_selected[\\\"group\\\"].value_counts().control,\\n        ab_testing_selected[\\\"group\\\"].value_counts().treatment,\\n    )\\n)\";\n                var nbb_formatted_code = \"# convert the control and treatment user groups to numpy arrays\\nusers_control = ab_data[ab_data[\\\"group\\\"] == \\\"control\\\"][\\\"user_id\\\"].to_numpy()\\nusers_treatment = ab_data[ab_data[\\\"group\\\"] == \\\"treatment\\\"][\\\"user_id\\\"].to_numpy()\\n# sample for the ab_testing using the numpy random choice function with no replacement\\ncontrol_sampled = np.random.choice(users_control, math.ceil(result), replace=False)\\ntreatment_sampled = np.random.choice(users_treatment, math.ceil(result), replace=False)\\n# create data frames of the sampled user_id values then create a new ab_testing_selected data frame\\ncontrol_sample_data = ab_data[ab_data[\\\"user_id\\\"].isin(control_sampled)]\\ntreatment_sample_data = ab_data[ab_data[\\\"user_id\\\"].isin(treatment_sampled)]\\nab_testing_selected = pd.concat([control_sample_data, treatment_sample_data])\\nprint(\\n    \\\"There are {} users in the control group and {} users in the treatment group in the testing data.\\\".format(\\n        ab_testing_selected[\\\"group\\\"].value_counts().control,\\n        ab_testing_selected[\\\"group\\\"].value_counts().treatment,\\n    )\\n)\";\n                var nbb_cells = Jupyter.notebook.get_cells();\n                for (var i = 0; i < nbb_cells.length; ++i) {\n                    if (nbb_cells[i].input_prompt_number == nbb_cell_id) {\n                        if (nbb_cells[i].get_text() == nbb_unformatted_code) {\n                             nbb_cells[i].set_text(nbb_formatted_code);\n                        }\n                        break;\n                    }\n                }\n            }, 500);\n            ",
      "text/plain": [
       "<IPython.core.display.Javascript object>"
      ]
     },
     "metadata": {},
     "output_type": "display_data"
    }
   ],
   "source": [
    "# convert the control and treatment user groups to numpy arrays\n",
    "users_control = ab_data[ab_data[\"group\"] == \"control\"][\"user_id\"].to_numpy()\n",
    "users_treatment = ab_data[ab_data[\"group\"] == \"treatment\"][\"user_id\"].to_numpy()\n",
    "# sample for the ab_testing using the numpy random choice function with no replacement\n",
    "control_sampled = np.random.choice(users_control, math.ceil(result), replace=False)\n",
    "treatment_sampled = np.random.choice(users_treatment, math.ceil(result), replace=False)\n",
    "# create data frames of the sampled user_id values then create a new ab_testing_selected data frame\n",
    "control_sample_data = ab_data[ab_data[\"user_id\"].isin(control_sampled)]\n",
    "treatment_sample_data = ab_data[ab_data[\"user_id\"].isin(treatment_sampled)]\n",
    "ab_testing_selected = pd.concat([control_sample_data, treatment_sample_data])\n",
    "print(\n",
    "    \"There are {} users in the control group and {} users in the treatment group in the testing data.\".format(\n",
    "        ab_testing_selected[\"group\"].value_counts().control,\n",
    "        ab_testing_selected[\"group\"].value_counts().treatment,\n",
    "    )\n",
    ")"
   ]
  },
  {
   "cell_type": "code",
   "execution_count": 194,
   "metadata": {},
   "outputs": [
    {
     "data": {
      "image/png": "[encoded data removed]",
      "text/plain": [
       "<Figure size 720x360 with 1 Axes>"
      ]
     },
     "metadata": {
      "needs_background": "light"
     },
     "output_type": "display_data"
    },
    {
     "data": {
      "application/javascript": "\n            setTimeout(function() {\n                var nbb_cell_id = 194;\n                var nbb_unformatted_code = \"plt.figure(figsize=(10, 5))\\nplt.ylim(0, 0.15)\\nplt.grid(axis=\\\"y\\\", color=\\\"black\\\")\\nplt.bar(\\n    conversions_by_group.mean().index,\\n    conversions_by_group.mean().values,\\n    width=0.5,\\n    color=[\\\"blue\\\", \\\"darkgreen\\\"],\\n)\\nplt.xlabel(\\\"Group\\\")\\nplt.ylabel(\\\"Percent Conversion\\\")\\nplt.title(\\\"Conversion Percentage by Group\\\")\\nplt.show()\";\n                var nbb_formatted_code = \"plt.figure(figsize=(10, 5))\\nplt.ylim(0, 0.15)\\nplt.grid(axis=\\\"y\\\", color=\\\"black\\\")\\nplt.bar(\\n    conversions_by_group.mean().index,\\n    conversions_by_group.mean().values,\\n    width=0.5,\\n    color=[\\\"blue\\\", \\\"darkgreen\\\"],\\n)\\nplt.xlabel(\\\"Group\\\")\\nplt.ylabel(\\\"Percent Conversion\\\")\\nplt.title(\\\"Conversion Percentage by Group\\\")\\nplt.show()\";\n                var nbb_cells = Jupyter.notebook.get_cells();\n                for (var i = 0; i < nbb_cells.length; ++i) {\n                    if (nbb_cells[i].input_prompt_number == nbb_cell_id) {\n                        if (nbb_cells[i].get_text() == nbb_unformatted_code) {\n                             nbb_cells[i].set_text(nbb_formatted_code);\n                        }\n                        break;\n                    }\n                }\n            }, 500);\n            ",
      "text/plain": [
       "<IPython.core.display.Javascript object>"
      ]
     },
     "metadata": {},
     "output_type": "display_data"
    }
   ],
   "source": [
    "conversions_by_group = ab_testing_selected.groupby(\"group\")[\n",
    "    \"converted\"\n",
    "]  # conversion rate by group\n",
    "plt.figure(figsize=(10, 5))\n",
    "plt.ylim(0, 0.15)\n",
    "plt.grid(axis=\"y\", color=\"black\")\n",
    "plt.bar(\n",
    "    conversions_by_group.mean().index,\n",
    "    conversions_by_group.mean().values,\n",
    "    width=0.5,\n",
    "    color=[\"blue\", \"darkgreen\"],\n",
    ")\n",
    "plt.xlabel(\"Group\")\n",
    "plt.ylabel(\"Percent Conversion\")\n",
    "plt.title(\"Conversion Percentage by Group\")\n",
    "plt.show()"
   ]
  },
  {
   "cell_type": "code",
   "execution_count": 246,
   "metadata": {},
   "outputs": [
    {
     "data": {
      "application/javascript": "\n            setTimeout(function() {\n                var nbb_cell_id = 246;\n                var nbb_unformatted_code = \"ctrl_sd = np.std(control_sample_data[\\\"converted\\\"])\\ntrmnt_sd = np.std(treatment_sample_data[\\\"converted\\\"])\\ntotal_prop = ab_testing_selected[\\\"converted\\\"].mean()  # sampled total conversion rate\\nz_val = (\\n    conversions_by_group.mean().values[0] - conversions_by_group.mean().values[1]\\n) / np.sqrt(\\n    (total_prop * (1 - total_prop)) * ((1 / 5417) + (1 / 5417))\\n)  # calculate the two proportion z-test score\\np_val_calc =scipy.stats.norm.sf(\\n    abs(z_val)\\n) * 2  # get the p-value for a two-tailed test with the z_val\";\n                var nbb_formatted_code = \"ctrl_sd = np.std(control_sample_data[\\\"converted\\\"])\\ntrmnt_sd = np.std(treatment_sample_data[\\\"converted\\\"])\\ntotal_prop = ab_testing_selected[\\\"converted\\\"].mean()  # sampled total conversion rate\\nz_val = (\\n    conversions_by_group.mean().values[0] - conversions_by_group.mean().values[1]\\n) / np.sqrt(\\n    (total_prop * (1 - total_prop)) * ((1 / 5417) + (1 / 5417))\\n)  # calculate the two proportion z-test score\\np_val_calc = (\\n    scipy.stats.norm.sf(abs(z_val)) * 2\\n)  # get the p-value for a two-tailed test with the z_val\";\n                var nbb_cells = Jupyter.notebook.get_cells();\n                for (var i = 0; i < nbb_cells.length; ++i) {\n                    if (nbb_cells[i].input_prompt_number == nbb_cell_id) {\n                        if (nbb_cells[i].get_text() == nbb_unformatted_code) {\n                             nbb_cells[i].set_text(nbb_formatted_code);\n                        }\n                        break;\n                    }\n                }\n            }, 500);\n            ",
      "text/plain": [
       "<IPython.core.display.Javascript object>"
      ]
     },
     "metadata": {},
     "output_type": "display_data"
    }
   ],
   "source": [
    "ctrl_sd = np.std(control_sample_data[\"converted\"])\n",
    "trmnt_sd = np.std(treatment_sample_data[\"converted\"])\n",
    "total_prop = ab_testing_selected[\"converted\"].mean()  # sampled total conversion rate\n",
    "z_val = (\n",
    "    conversions_by_group.mean().values[0] - conversions_by_group.mean().values[1]\n",
    ") / np.sqrt(\n",
    "    (total_prop * (1 - total_prop)) * ((1 / 5417) + (1 / 5417))\n",
    ")  # calculate the two proportion z-test score\n",
    "p_val_calc = (\n",
    "    scipy.stats.norm.sf(abs(z_val)) * 2\n",
    ")  # get the p-value for a two-tailed test with the z_val"
   ]
  },
  {
   "cell_type": "code",
   "execution_count": 252,
   "metadata": {},
   "outputs": [
    {
     "name": "stdout",
     "output_type": "stream",
     "text": [
      "The p value, 0.134, is greater than the alpha value of 0.05.  Reject the null hypothesis in favor of the alternative hypothesis.\n"
     ]
    },
    {
     "data": {
      "application/javascript": "\n            setTimeout(function() {\n                var nbb_cell_id = 252;\n                var nbb_unformatted_code = \"observation_count = [\\n    control_sample_data[\\\"converted\\\"].count(),\\n    treatment_sample_data[\\\"converted\\\"].count(),\\n]\\nconversions_success = [\\n    control_sample_data[\\\"converted\\\"].sum(),\\n    treatment_sample_data[\\\"converted\\\"].sum(),\\n]\\n# getting the z-test score and associated p-value using the proportions_ztest function\\nz_statistic, p_value = proportions_ztest(conversions_success, nobs=observation_count)\\n# calculating the lower and upper confidence interval values for the sampled data\\n(lower_ctrl, lower_trmnt), (upper_ctrl, upper_trmnt) = proportion_confint(\\n    conversions_success, nobs=observation_count, alpha=alpha\\n)\\nif p_value < alpha:\\n    print(\\n        f\\\"The p value, {p_value:.3f}, is less than the alpha value of 0.05.\\\"\\n        \\\"  Reject the null hypothesis in favor of the alternative hypothesis.\\\"\\n    )\\nelse:\\n    print(\\n        f\\\"The p value, {p_value:.3f}, is greater than the alpha value of 0.05.\\\"\\n        \\\"  Reject the null hypothesis in favor of the alternative hypothesis.\\\"\\n    )\";\n                var nbb_formatted_code = \"observation_count = [\\n    control_sample_data[\\\"converted\\\"].count(),\\n    treatment_sample_data[\\\"converted\\\"].count(),\\n]\\nconversions_success = [\\n    control_sample_data[\\\"converted\\\"].sum(),\\n    treatment_sample_data[\\\"converted\\\"].sum(),\\n]\\n# getting the z-test score and associated p-value using the proportions_ztest function\\nz_statistic, p_value = proportions_ztest(conversions_success, nobs=observation_count)\\n# calculating the lower and upper confidence interval values for the sampled data\\n(lower_ctrl, lower_trmnt), (upper_ctrl, upper_trmnt) = proportion_confint(\\n    conversions_success, nobs=observation_count, alpha=alpha\\n)\\nif p_value < alpha:\\n    print(\\n        f\\\"The p value, {p_value:.3f}, is less than the alpha value of 0.05.\\\"\\n        \\\"  Reject the null hypothesis in favor of the alternative hypothesis.\\\"\\n    )\\nelse:\\n    print(\\n        f\\\"The p value, {p_value:.3f}, is greater than the alpha value of 0.05.\\\"\\n        \\\"  Reject the null hypothesis in favor of the alternative hypothesis.\\\"\\n    )\";\n                var nbb_cells = Jupyter.notebook.get_cells();\n                for (var i = 0; i < nbb_cells.length; ++i) {\n                    if (nbb_cells[i].input_prompt_number == nbb_cell_id) {\n                        if (nbb_cells[i].get_text() == nbb_unformatted_code) {\n                             nbb_cells[i].set_text(nbb_formatted_code);\n                        }\n                        break;\n                    }\n                }\n            }, 500);\n            ",
      "text/plain": [
       "<IPython.core.display.Javascript object>"
      ]
     },
     "metadata": {},
     "output_type": "display_data"
    }
   ],
   "source": [
    "observation_count = [\n",
    "    control_sample_data[\"converted\"].count(),\n",
    "    treatment_sample_data[\"converted\"].count(),\n",
    "]\n",
    "conversions_success = [\n",
    "    control_sample_data[\"converted\"].sum(),\n",
    "    treatment_sample_data[\"converted\"].sum(),\n",
    "]\n",
    "# getting the z-test score and associated p-value using the proportions_ztest function\n",
    "z_statistic, p_value = proportions_ztest(conversions_success, nobs=observation_count)\n",
    "# calculating the lower and upper confidence interval values for the sampled data\n",
    "(lower_ctrl, lower_trmnt), (upper_ctrl, upper_trmnt) = proportion_confint(\n",
    "    conversions_success, nobs=observation_count, alpha=alpha\n",
    ")\n",
    "if p_value < alpha:\n",
    "    print(\n",
    "        f\"The p value, {p_value:.3f}, is less than the alpha value of 0.05.\"\n",
    "        \"  Reject the null hypothesis in favor of the alternative hypothesis.\"\n",
    "    )\n",
    "else:\n",
    "    print(\n",
    "        f\"The p value, {p_value:.3f}, is greater than the alpha value of 0.05.\"\n",
    "        \"  Reject the null hypothesis in favor of the alternative hypothesis.\"\n",
    "    )"
   ]
  },
  {
   "cell_type": "markdown",
   "metadata": {},
   "source": [
    "### Results Summary\n",
    "---\n",
    "\n",
    "A two tailed z test for propotions was utilized to assess the results of the ab testing.  The conversion rate with the new landing page proved to be similar enough to the conversion rate with the old landing page given a desired 1.8% increase in conversion as a measure of success.  The increase in the proportion of customers converted with the new landing page did not prove to be statistically significant."
   ]
  }
 ],
 "metadata": {
  "kernelspec": {
   "display_name": "Python 3",
   "language": "python",
   "name": "python3"
  },
  "language_info": {
   "codemirror_mode": {
    "name": "ipython",
    "version": 3
   },
   "file_extension": ".py",
   "mimetype": "text/x-python",
   "name": "python",
   "nbconvert_exporter": "python",
   "pygments_lexer": "ipython3",
   "version": "3.7.4"
  }
 },
 "nbformat": 4,
 "nbformat_minor": 2
}
